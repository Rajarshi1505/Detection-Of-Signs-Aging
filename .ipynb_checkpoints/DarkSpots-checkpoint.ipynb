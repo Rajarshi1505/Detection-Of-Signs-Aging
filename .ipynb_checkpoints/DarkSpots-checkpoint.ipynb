{
 "cells": [
  {
   "cell_type": "code",
   "execution_count": 1,
   "id": "6a97e6fb",
   "metadata": {},
   "outputs": [],
   "source": [
    "import tensorflow as tf\n",
    "import pandas as pd\n",
    "import numpy as np\n",
    "import os\n",
    "import cv2"
   ]
  },
  {
   "cell_type": "code",
   "execution_count": 2,
   "id": "09766e7e",
   "metadata": {},
   "outputs": [],
   "source": [
    "folder_list=os.listdir(\"D:/DataSets/Signs_of_Aging/Darkspots\")"
   ]
  },
  {
   "cell_type": "code",
   "execution_count": 3,
   "id": "f24fd9e1",
   "metadata": {},
   "outputs": [
    {
     "data": {
      "text/plain": [
       "['DarkSpots', 'NoDarkSpots']"
      ]
     },
     "execution_count": 3,
     "metadata": {},
     "output_type": "execute_result"
    }
   ],
   "source": [
    "folder_list"
   ]
  },
  {
   "cell_type": "code",
   "execution_count": 4,
   "id": "9016f141",
   "metadata": {},
   "outputs": [
    {
     "name": "stdout",
     "output_type": "stream",
     "text": [
      "In Folder :  DarkSpots\n",
      "In Folder :  NoDarkSpots\n"
     ]
    }
   ],
   "source": [
    "features_train=[]\n",
    "target_train=[]\n",
    "for folder in folder_list:\n",
    "    ImgNames_list=os.listdir(\"D:/DataSets/Signs_of_Aging/Darkspots\"+\"/\"+folder)\n",
    "    print(\"In Folder : \",folder)\n",
    "    for imgName in ImgNames_list:\n",
    "        Imgarr=cv2.imread(\"D:/DataSets/Signs_of_Aging/Darkspots\"+\"/\"+folder+\"/\"+imgName)\n",
    "        # there might be images of size less than 100 by 100 and so error occurs\n",
    "        try:\n",
    "            Imgarr=cv2.resize(Imgarr,(100,100))\n",
    "        except: # we need to write atleast one line of code\n",
    "            pass\n",
    "        else:\n",
    "            features_train.append(Imgarr)\n",
    "            if folder==\"NoDarkSpots\":\n",
    "                target_train.append(0)\n",
    "            else:\n",
    "                target_train.append(1)"
   ]
  },
  {
   "cell_type": "code",
   "execution_count": 5,
   "id": "3411d093",
   "metadata": {},
   "outputs": [],
   "source": [
    "features_train=np.array(features_train)\n",
    "target_train=np.array(target_train)"
   ]
  },
  {
   "cell_type": "code",
   "execution_count": 6,
   "id": "78b0659b",
   "metadata": {},
   "outputs": [
    {
     "data": {
      "text/plain": [
       "(287, 100, 100, 3)"
      ]
     },
     "execution_count": 6,
     "metadata": {},
     "output_type": "execute_result"
    }
   ],
   "source": [
    "features_train.shape"
   ]
  },
  {
   "cell_type": "code",
   "execution_count": 7,
   "id": "53b49c96",
   "metadata": {},
   "outputs": [
    {
     "data": {
      "text/plain": [
       "(287,)"
      ]
     },
     "execution_count": 7,
     "metadata": {},
     "output_type": "execute_result"
    }
   ],
   "source": [
    "target_train.shape"
   ]
  },
  {
   "cell_type": "code",
   "execution_count": 8,
   "id": "07a5e004",
   "metadata": {},
   "outputs": [
    {
     "data": {
      "text/plain": [
       "4"
      ]
     },
     "execution_count": 8,
     "metadata": {},
     "output_type": "execute_result"
    }
   ],
   "source": [
    "features_train.ndim"
   ]
  },
  {
   "cell_type": "code",
   "execution_count": 9,
   "id": "bc0d5f8d",
   "metadata": {},
   "outputs": [
    {
     "data": {
      "text/plain": [
       "1"
      ]
     },
     "execution_count": 9,
     "metadata": {},
     "output_type": "execute_result"
    }
   ],
   "source": [
    "target_train.ndim"
   ]
  },
  {
   "cell_type": "code",
   "execution_count": 10,
   "id": "6b72025e",
   "metadata": {},
   "outputs": [],
   "source": [
    "def preprocessing(image):\n",
    "    image=cv2.cvtColor(image,cv2.COLOR_BGR2GRAY)\n",
    "    image=image/255\n",
    "    return image"
   ]
  },
  {
   "cell_type": "code",
   "execution_count": 11,
   "id": "f6d3ec3f",
   "metadata": {},
   "outputs": [],
   "source": [
    "features_train=np.array(list(map(preprocessing,features_train)))"
   ]
  },
  {
   "cell_type": "code",
   "execution_count": 12,
   "id": "8640cb6b",
   "metadata": {},
   "outputs": [
    {
     "data": {
      "text/plain": [
       "(287, 100, 100)"
      ]
     },
     "execution_count": 12,
     "metadata": {},
     "output_type": "execute_result"
    }
   ],
   "source": [
    "features_train.shape"
   ]
  },
  {
   "cell_type": "code",
   "execution_count": 14,
   "id": "369ffbbb",
   "metadata": {},
   "outputs": [],
   "source": [
    "features_train=features_train.reshape(287, 100, 100,1)"
   ]
  },
  {
   "cell_type": "code",
   "execution_count": 15,
   "id": "2ee0a8d7",
   "metadata": {},
   "outputs": [],
   "source": [
    "from keras.preprocessing.image import ImageDataGenerator"
   ]
  },
  {
   "cell_type": "code",
   "execution_count": 16,
   "id": "b61c773a",
   "metadata": {},
   "outputs": [],
   "source": [
    "dataGen=ImageDataGenerator(rotation_range=10,width_shift_range=0.1,height_shift_range=0.1,zoom_range=0.2,shear_range=0.1)"
   ]
  },
  {
   "cell_type": "code",
   "execution_count": 17,
   "id": "a80021cd",
   "metadata": {},
   "outputs": [],
   "source": [
    "dataGen.fit(features_train)"
   ]
  },
  {
   "cell_type": "code",
   "execution_count": 18,
   "id": "abbf8dad",
   "metadata": {},
   "outputs": [],
   "source": [
    "batches=dataGen.flow(features_train,target_train,batch_size=5)"
   ]
  },
  {
   "cell_type": "code",
   "execution_count": 19,
   "id": "0741ba3c",
   "metadata": {},
   "outputs": [
    {
     "data": {
      "text/plain": [
       "58"
      ]
     },
     "execution_count": 19,
     "metadata": {},
     "output_type": "execute_result"
    }
   ],
   "source": [
    "len(batches)"
   ]
  },
  {
   "cell_type": "code",
   "execution_count": 20,
   "id": "7bc9e7f1",
   "metadata": {},
   "outputs": [],
   "source": [
    "images,labels=next(batches)"
   ]
  },
  {
   "cell_type": "code",
   "execution_count": 21,
   "id": "aa87b65b",
   "metadata": {},
   "outputs": [
    {
     "data": {
      "text/plain": [
       "4"
      ]
     },
     "execution_count": 21,
     "metadata": {},
     "output_type": "execute_result"
    }
   ],
   "source": [
    "images.ndim"
   ]
  },
  {
   "cell_type": "code",
   "execution_count": 22,
   "id": "b3dcc6f2",
   "metadata": {},
   "outputs": [
    {
     "data": {
      "text/plain": [
       "(5,)"
      ]
     },
     "execution_count": 22,
     "metadata": {},
     "output_type": "execute_result"
    }
   ],
   "source": [
    "labels.shape"
   ]
  },
  {
   "cell_type": "code",
   "execution_count": 23,
   "id": "2671b343",
   "metadata": {},
   "outputs": [
    {
     "data": {
      "text/plain": [
       "(5, 100, 100, 1)"
      ]
     },
     "execution_count": 23,
     "metadata": {},
     "output_type": "execute_result"
    }
   ],
   "source": [
    "images.shape"
   ]
  },
  {
   "cell_type": "code",
   "execution_count": 24,
   "id": "1b4168e3",
   "metadata": {},
   "outputs": [],
   "source": [
    "import matplotlib.pyplot as plt"
   ]
  },
  {
   "cell_type": "code",
   "execution_count": 25,
   "id": "c4e1c099",
   "metadata": {},
   "outputs": [
    {
     "data": {
      "image/png": "[encoded data removed]",
      "text/plain": [
       "<Figure size 720x720 with 5 Axes>"
      ]
     },
     "metadata": {
      "needs_background": "light"
     },
     "output_type": "display_data"
    }
   ],
   "source": [
    "plt.figure(figsize=(10,10))\n",
    "for i in range(5):\n",
    "    plt.subplot(1,5,i+1)\n",
    "    plt.imshow(images[i].reshape(100,100))\n",
    "plt.show()"
   ]
  },
  {
   "cell_type": "code",
   "execution_count": 26,
   "id": "1d078442",
   "metadata": {},
   "outputs": [
    {
     "data": {
      "text/plain": [
       "(287, 100, 100, 1)"
      ]
     },
     "execution_count": 26,
     "metadata": {},
     "output_type": "execute_result"
    }
   ],
   "source": [
    "features_train.shape"
   ]
  },
  {
   "cell_type": "code",
   "execution_count": 27,
   "id": "1dec57f1",
   "metadata": {},
   "outputs": [
    {
     "data": {
      "text/plain": [
       "(287,)"
      ]
     },
     "execution_count": 27,
     "metadata": {},
     "output_type": "execute_result"
    }
   ],
   "source": [
    "target_train.shape"
   ]
  },
  {
   "cell_type": "code",
   "execution_count": 28,
   "id": "372e9fff",
   "metadata": {},
   "outputs": [],
   "source": [
    "from keras.utils.np_utils import to_categorical"
   ]
  },
  {
   "cell_type": "code",
   "execution_count": 29,
   "id": "ffd9632d",
   "metadata": {},
   "outputs": [],
   "source": [
    "target_train=to_categorical(target_train)"
   ]
  },
  {
   "cell_type": "code",
   "execution_count": 30,
   "id": "68843e0b",
   "metadata": {},
   "outputs": [
    {
     "data": {
      "text/plain": [
       "(287, 2)"
      ]
     },
     "execution_count": 30,
     "metadata": {},
     "output_type": "execute_result"
    }
   ],
   "source": [
    "target_train.shape"
   ]
  },
  {
   "cell_type": "code",
   "execution_count": 31,
   "id": "6b6052fc",
   "metadata": {},
   "outputs": [],
   "source": [
    "from keras.layers import Dense,Flatten,Conv2D,MaxPooling2D,Dropout\n",
    "from keras.models import Sequential"
   ]
  },
  {
   "cell_type": "code",
   "execution_count": 32,
   "id": "c85437ff",
   "metadata": {},
   "outputs": [],
   "source": [
    "model=Sequential()\n",
    "model.add(Conv2D(100,(3,3),activation=\"relu\",input_shape=(100,100,1)))\n",
    "model.add(Conv2D(100,(3,3),activation=\"relu\"))\n",
    "model.add(MaxPooling2D(2,2))\n",
    "model.add(Conv2D(50,(3,3),activation=\"relu\"))\n",
    "model.add(Conv2D(50,(3,3),activation=\"relu\"))\n",
    "model.add(Conv2D(50,(3,3),activation=\"relu\"))\n",
    "model.add(MaxPooling2D(2,2))\n",
    "\n",
    "#model.add(Dropout(0.5)) # for overfitting model\n",
    "\n",
    "model.add(Flatten())\n",
    "model.add(Dense(500,activation=\"relu\"))\n",
    "model.add(Dense(2,activation=\"softmax\")) "
   ]
  },
  {
   "cell_type": "code",
   "execution_count": 33,
   "id": "bb35db52",
   "metadata": {},
   "outputs": [],
   "source": [
    "from keras.optimizers import Adam"
   ]
  },
  {
   "cell_type": "code",
   "execution_count": 34,
   "id": "aa6d22b6",
   "metadata": {},
   "outputs": [],
   "source": [
    "model.compile(Adam(learning_rate=0.0001),loss=\"categorical_crossentropy\",metrics=[\"accuracy\"])"
   ]
  },
  {
   "cell_type": "code",
   "execution_count": 35,
   "id": "035c3ef5",
   "metadata": {},
   "outputs": [
    {
     "name": "stdout",
     "output_type": "stream",
     "text": [
      "Epoch 1/50\n",
      "58/58 [==============================] - 32s 380ms/step - loss: 0.3567 - accuracy: 0.9438\n",
      "Epoch 2/50\n",
      "58/58 [==============================] - 24s 407ms/step - loss: 0.3509 - accuracy: 0.9395\n",
      "Epoch 3/50\n",
      "58/58 [==============================] - 23s 398ms/step - loss: 0.2609 - accuracy: 0.9443\n",
      "Epoch 4/50\n",
      "58/58 [==============================] - 23s 392ms/step - loss: 0.3098 - accuracy: 0.9275\n",
      "Epoch 5/50\n",
      "58/58 [==============================] - 23s 398ms/step - loss: 0.2207 - accuracy: 0.9524\n",
      "Epoch 6/50\n",
      "58/58 [==============================] - 24s 415ms/step - loss: 0.1816 - accuracy: 0.9556\n",
      "Epoch 7/50\n",
      "58/58 [==============================] - 23s 404ms/step - loss: 0.2662 - accuracy: 0.9514\n",
      "Epoch 8/50\n",
      "58/58 [==============================] - 25s 427ms/step - loss: 0.1881 - accuracy: 0.9479\n",
      "Epoch 9/50\n",
      "58/58 [==============================] - 23s 394ms/step - loss: 0.2059 - accuracy: 0.9266\n",
      "Epoch 10/50\n",
      "58/58 [==============================] - 24s 415ms/step - loss: 0.1443 - accuracy: 0.9689\n",
      "Epoch 11/50\n",
      "58/58 [==============================] - 24s 408ms/step - loss: 0.2104 - accuracy: 0.9314\n",
      "Epoch 12/50\n",
      "58/58 [==============================] - 25s 436ms/step - loss: 0.2062 - accuracy: 0.9298\n",
      "Epoch 13/50\n",
      "58/58 [==============================] - 25s 428ms/step - loss: 0.1781 - accuracy: 0.9371\n",
      "Epoch 14/50\n",
      "58/58 [==============================] - 24s 408ms/step - loss: 0.1446 - accuracy: 0.9466\n",
      "Epoch 15/50\n",
      "58/58 [==============================] - 24s 414ms/step - loss: 0.1138 - accuracy: 0.9393\n",
      "Epoch 16/50\n",
      "58/58 [==============================] - 23s 400ms/step - loss: 0.2055 - accuracy: 0.9602\n",
      "Epoch 17/50\n",
      "58/58 [==============================] - 27s 461ms/step - loss: 0.2533 - accuracy: 0.9220\n",
      "Epoch 18/50\n",
      "58/58 [==============================] - 27s 466ms/step - loss: 0.1367 - accuracy: 0.9548\n",
      "Epoch 19/50\n",
      "58/58 [==============================] - 24s 420ms/step - loss: 0.1384 - accuracy: 0.9429\n",
      "Epoch 20/50\n",
      "58/58 [==============================] - 25s 425ms/step - loss: 0.1487 - accuracy: 0.9356\n",
      "Epoch 21/50\n",
      "58/58 [==============================] - 24s 420ms/step - loss: 0.1600 - accuracy: 0.9404\n",
      "Epoch 22/50\n",
      "58/58 [==============================] - 24s 421ms/step - loss: 0.1560 - accuracy: 0.9260\n",
      "Epoch 23/50\n",
      "58/58 [==============================] - 24s 419ms/step - loss: 0.1555 - accuracy: 0.9228\n",
      "Epoch 24/50\n",
      "58/58 [==============================] - 25s 423ms/step - loss: 0.1091 - accuracy: 0.9640\n",
      "Epoch 25/50\n",
      "58/58 [==============================] - 25s 428ms/step - loss: 0.1119 - accuracy: 0.9641\n",
      "Epoch 26/50\n",
      "58/58 [==============================] - 26s 445ms/step - loss: 0.1468 - accuracy: 0.9376\n",
      "Epoch 27/50\n",
      "58/58 [==============================] - 26s 445ms/step - loss: 0.1473 - accuracy: 0.9259\n",
      "Epoch 28/50\n",
      "58/58 [==============================] - 26s 452ms/step - loss: 0.1156 - accuracy: 0.9450\n",
      "Epoch 29/50\n",
      "58/58 [==============================] - 26s 445ms/step - loss: 0.0852 - accuracy: 0.9655\n",
      "Epoch 30/50\n",
      "58/58 [==============================] - 25s 433ms/step - loss: 0.0786 - accuracy: 0.9613\n",
      "Epoch 31/50\n",
      "58/58 [==============================] - 26s 445ms/step - loss: 0.0831 - accuracy: 0.9671\n",
      "Epoch 32/50\n",
      "58/58 [==============================] - 24s 414ms/step - loss: 0.0766 - accuracy: 0.9675\n",
      "Epoch 33/50\n",
      "58/58 [==============================] - 25s 438ms/step - loss: 0.0705 - accuracy: 0.9774\n",
      "Epoch 34/50\n",
      "58/58 [==============================] - 25s 437ms/step - loss: 0.1368 - accuracy: 0.9478\n",
      "Epoch 35/50\n",
      "58/58 [==============================] - 26s 442ms/step - loss: 0.1038 - accuracy: 0.9632\n",
      "Epoch 36/50\n",
      "58/58 [==============================] - 28s 475ms/step - loss: 0.1001 - accuracy: 0.9530\n",
      "Epoch 37/50\n",
      "58/58 [==============================] - 24s 419ms/step - loss: 0.1215 - accuracy: 0.9548\n",
      "Epoch 38/50\n",
      "58/58 [==============================] - 25s 430ms/step - loss: 0.1120 - accuracy: 0.9661\n",
      "Epoch 39/50\n",
      "58/58 [==============================] - 25s 424ms/step - loss: 0.0679 - accuracy: 0.9836\n",
      "Epoch 40/50\n",
      "58/58 [==============================] - 24s 414ms/step - loss: 0.0618 - accuracy: 0.9704\n",
      "Epoch 41/50\n",
      "58/58 [==============================] - 24s 416ms/step - loss: 0.0794 - accuracy: 0.9793\n",
      "Epoch 42/50\n",
      "58/58 [==============================] - 25s 429ms/step - loss: 0.1080 - accuracy: 0.9553\n",
      "Epoch 43/50\n",
      "58/58 [==============================] - 25s 423ms/step - loss: 0.1573 - accuracy: 0.9542\n",
      "Epoch 44/50\n",
      "58/58 [==============================] - 24s 408ms/step - loss: 0.0236 - accuracy: 0.9955\n",
      "Epoch 45/50\n",
      "58/58 [==============================] - 24s 419ms/step - loss: 0.0577 - accuracy: 0.9860\n",
      "Epoch 46/50\n",
      "58/58 [==============================] - 24s 418ms/step - loss: 0.1233 - accuracy: 0.9648\n",
      "Epoch 47/50\n",
      "58/58 [==============================] - 24s 418ms/step - loss: 0.0335 - accuracy: 0.9943\n",
      "Epoch 48/50\n",
      "58/58 [==============================] - 24s 417ms/step - loss: 0.0152 - accuracy: 0.9988\n",
      "Epoch 49/50\n",
      "58/58 [==============================] - 24s 420ms/step - loss: 0.0299 - accuracy: 0.9939\n",
      "Epoch 50/50\n",
      "58/58 [==============================] - 24s 415ms/step - loss: 0.0506 - accuracy: 0.9831\n"
     ]
    },
    {
     "data": {
      "text/plain": [
       "<keras.callbacks.History at 0x2b7950efca0>"
      ]
     },
     "execution_count": 35,
     "metadata": {},
     "output_type": "execute_result"
    }
   ],
   "source": [
    "model.fit(dataGen.flow(features_train,target_train,batch_size=5),epochs=50)"
   ]
  },
  {
   "cell_type": "code",
   "execution_count": 36,
   "id": "fc360571",
   "metadata": {},
   "outputs": [
    {
     "name": "stdout",
     "output_type": "stream",
     "text": [
      "Save the Model\n"
     ]
    }
   ],
   "source": [
    "model_json=model.to_json() # converted to json file\n",
    "with open(\"DarkSpots.json\",\"w\") as abc:\n",
    "    abc.write(model_json)\n",
    "    abc.close()\n",
    "model.save_weights(\"DarkSpotsWeights.h5\") # saving weights as hdf 5 file\n",
    "print(\"Save the Model\")"
   ]
  },
  {
   "cell_type": "code",
   "execution_count": 37,
   "id": "131f3a41",
   "metadata": {},
   "outputs": [
    {
     "name": "stdout",
     "output_type": "stream",
     "text": [
      "Loaded model successfully\n"
     ]
    }
   ],
   "source": [
    "from keras.models import model_from_json\n",
    "json_file=open(\"DarkSpots.json\",\"r\")\n",
    "loaded_model_json=json_file.read()\n",
    "json_file.close()\n",
    "loaded_model=model_from_json(loaded_model_json)\n",
    "loaded_model.load_weights(\"DarkSpotsWeights.h5\")\n",
    "print(\"Loaded model successfully\")"
   ]
  },
  {
   "cell_type": "code",
   "execution_count": 38,
   "id": "30794057",
   "metadata": {},
   "outputs": [],
   "source": [
    "def getClassName(classNo):\n",
    "    if classNo == 0: return \"No Dark Spots\"\n",
    "    elif classNo == 1: return \"Dark Spots\""
   ]
  },
  {
   "cell_type": "code",
   "execution_count": null,
   "id": "568129ed",
   "metadata": {},
   "outputs": [],
   "source": []
  }
 ],
 "metadata": {
  "kernelspec": {
   "display_name": "Python 3",
   "language": "python",
   "name": "python3"
  },
  "language_info": {
   "codemirror_mode": {
    "name": "ipython",
    "version": 3
   },
   "file_extension": ".py",
   "mimetype": "text/x-python",
   "name": "python",
   "nbconvert_exporter": "python",
   "pygments_lexer": "ipython3",
   "version": "3.8.8"
  }
 },
 "nbformat": 4,
 "nbformat_minor": 5
}

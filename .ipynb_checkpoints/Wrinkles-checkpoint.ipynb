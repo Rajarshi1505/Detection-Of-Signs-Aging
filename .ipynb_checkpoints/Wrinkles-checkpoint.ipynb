{
 "cells": [
  {
   "cell_type": "code",
   "execution_count": 23,
   "id": "f2445dd9",
   "metadata": {},
   "outputs": [],
   "source": [
    "import tensorflow as tf\n",
    "import pandas as pd\n",
    "import numpy as np\n",
    "import os\n",
    "import cv2"
   ]
  },
  {
   "cell_type": "code",
   "execution_count": 2,
   "id": "1ced705a",
   "metadata": {},
   "outputs": [],
   "source": [
    "folder_list=os.listdir(\"D:/DataSets/Signs_of_Aging/Wrinkles/datasets/train\")"
   ]
  },
  {
   "cell_type": "code",
   "execution_count": 3,
   "id": "e02ea0bd",
   "metadata": {},
   "outputs": [
    {
     "data": {
      "text/plain": [
       "['NoWrinkles', 'Wrinkled']"
      ]
     },
     "execution_count": 3,
     "metadata": {},
     "output_type": "execute_result"
    }
   ],
   "source": [
    "folder_list"
   ]
  },
  {
   "cell_type": "code",
   "execution_count": 4,
   "id": "ffb45f70",
   "metadata": {},
   "outputs": [
    {
     "name": "stdout",
     "output_type": "stream",
     "text": [
      "In Folder :  NoWrinkles\n",
      "In Folder :  Wrinkled\n"
     ]
    }
   ],
   "source": [
    "features_train=[]\n",
    "target_train=[]\n",
    "for folder in folder_list:\n",
    "    ImgNames_list=os.listdir(\"D:/DataSets/Signs_of_Aging/Wrinkles/datasets/train\"+\"/\"+folder)\n",
    "    print(\"In Folder : \",folder)\n",
    "    for imgName in ImgNames_list:\n",
    "        Imgarr=cv2.imread(\"D:/DataSets/Signs_of_Aging/Wrinkles/datasets/train\"+\"/\"+folder+\"/\"+imgName)\n",
    "        # there might be images of size less than 100 by 100 and so error occurs\n",
    "        try:\n",
    "            Imgarr=cv2.resize(Imgarr,(100,100))\n",
    "        except: # we need to write atleast one line of code\n",
    "            pass\n",
    "        else:\n",
    "            features_train.append(Imgarr)\n",
    "            if folder==\"NoWrinkles\":\n",
    "                target_train.append(0)\n",
    "            else:\n",
    "                target_train.append(1)"
   ]
  },
  {
   "cell_type": "code",
   "execution_count": null,
   "id": "eb778f79",
   "metadata": {},
   "outputs": [],
   "source": []
  },
  {
   "cell_type": "code",
   "execution_count": 5,
   "id": "250b1f1a",
   "metadata": {},
   "outputs": [],
   "source": [
    "features_train=np.array(features_train)\n",
    "target_train=np.array(target_train)"
   ]
  },
  {
   "cell_type": "code",
   "execution_count": 6,
   "id": "7eca2474",
   "metadata": {},
   "outputs": [
    {
     "data": {
      "text/plain": [
       "(261, 100, 100, 3)"
      ]
     },
     "execution_count": 6,
     "metadata": {},
     "output_type": "execute_result"
    }
   ],
   "source": [
    "features_train.shape"
   ]
  },
  {
   "cell_type": "code",
   "execution_count": 7,
   "id": "88494a3e",
   "metadata": {},
   "outputs": [
    {
     "data": {
      "text/plain": [
       "(261,)"
      ]
     },
     "execution_count": 7,
     "metadata": {},
     "output_type": "execute_result"
    }
   ],
   "source": [
    "target_train.shape"
   ]
  },
  {
   "cell_type": "code",
   "execution_count": 8,
   "id": "101ec433",
   "metadata": {},
   "outputs": [
    {
     "data": {
      "text/plain": [
       "4"
      ]
     },
     "execution_count": 8,
     "metadata": {},
     "output_type": "execute_result"
    }
   ],
   "source": [
    "features_train.ndim"
   ]
  },
  {
   "cell_type": "code",
   "execution_count": 9,
   "id": "98def525",
   "metadata": {},
   "outputs": [
    {
     "data": {
      "text/plain": [
       "1"
      ]
     },
     "execution_count": 9,
     "metadata": {},
     "output_type": "execute_result"
    }
   ],
   "source": [
    "target_train.ndim"
   ]
  },
  {
   "cell_type": "code",
   "execution_count": 24,
   "id": "bd1c8993",
   "metadata": {},
   "outputs": [],
   "source": [
    "def preprocessing(image):\n",
    "    image=cv2.cvtColor(image,cv2.COLOR_BGR2GRAY)\n",
    "    image=image/255\n",
    "    return image"
   ]
  },
  {
   "cell_type": "code",
   "execution_count": 11,
   "id": "5d570195",
   "metadata": {},
   "outputs": [],
   "source": [
    "features_train=np.array(list(map(preprocessing,features_train)))"
   ]
  },
  {
   "cell_type": "code",
   "execution_count": 12,
   "id": "b6f73295",
   "metadata": {},
   "outputs": [
    {
     "data": {
      "text/plain": [
       "(261, 100, 100)"
      ]
     },
     "execution_count": 12,
     "metadata": {},
     "output_type": "execute_result"
    }
   ],
   "source": [
    "features_train.shape"
   ]
  },
  {
   "cell_type": "code",
   "execution_count": 13,
   "id": "c0d26edd",
   "metadata": {},
   "outputs": [],
   "source": [
    "features_train=features_train.reshape(261, 100, 100,1)"
   ]
  },
  {
   "cell_type": "code",
   "execution_count": 14,
   "id": "5213ba70",
   "metadata": {},
   "outputs": [],
   "source": [
    "from keras.preprocessing.image import ImageDataGenerator"
   ]
  },
  {
   "cell_type": "code",
   "execution_count": 15,
   "id": "75c3b7af",
   "metadata": {},
   "outputs": [],
   "source": [
    "dataGen=ImageDataGenerator(rotation_range=10,width_shift_range=0.1,height_shift_range=0.1,zoom_range=0.2,shear_range=0.1)"
   ]
  },
  {
   "cell_type": "code",
   "execution_count": 16,
   "id": "cc9ad29b",
   "metadata": {},
   "outputs": [],
   "source": [
    "dataGen.fit(features_train)"
   ]
  },
  {
   "cell_type": "code",
   "execution_count": 17,
   "id": "469998bf",
   "metadata": {},
   "outputs": [],
   "source": [
    "batches=dataGen.flow(features_train,target_train,batch_size=5)"
   ]
  },
  {
   "cell_type": "code",
   "execution_count": 18,
   "id": "874ffa06",
   "metadata": {},
   "outputs": [
    {
     "data": {
      "text/plain": [
       "53"
      ]
     },
     "execution_count": 18,
     "metadata": {},
     "output_type": "execute_result"
    }
   ],
   "source": [
    "len(batches)"
   ]
  },
  {
   "cell_type": "code",
   "execution_count": 19,
   "id": "bfee46a5",
   "metadata": {},
   "outputs": [],
   "source": [
    "images,labels=next(batches)"
   ]
  },
  {
   "cell_type": "code",
   "execution_count": 20,
   "id": "90b0cb78",
   "metadata": {},
   "outputs": [
    {
     "data": {
      "text/plain": [
       "4"
      ]
     },
     "execution_count": 20,
     "metadata": {},
     "output_type": "execute_result"
    }
   ],
   "source": [
    "images.ndim"
   ]
  },
  {
   "cell_type": "code",
   "execution_count": 21,
   "id": "52fc62bb",
   "metadata": {},
   "outputs": [
    {
     "data": {
      "text/plain": [
       "(5,)"
      ]
     },
     "execution_count": 21,
     "metadata": {},
     "output_type": "execute_result"
    }
   ],
   "source": [
    "labels.shape"
   ]
  },
  {
   "cell_type": "code",
   "execution_count": 22,
   "id": "573be270",
   "metadata": {},
   "outputs": [
    {
     "data": {
      "text/plain": [
       "(5, 100, 100, 1)"
      ]
     },
     "execution_count": 22,
     "metadata": {},
     "output_type": "execute_result"
    }
   ],
   "source": [
    "images.shape"
   ]
  },
  {
   "cell_type": "code",
   "execution_count": 23,
   "id": "06ea4cec",
   "metadata": {},
   "outputs": [],
   "source": [
    "import matplotlib.pyplot as plt"
   ]
  },
  {
   "cell_type": "code",
   "execution_count": 24,
   "id": "0c319ec8",
   "metadata": {},
   "outputs": [
    {
     "data": {
      "image/png": "[encoded data removed]",
      "text/plain": [
       "<Figure size 720x720 with 5 Axes>"
      ]
     },
     "metadata": {
      "needs_background": "light"
     },
     "output_type": "display_data"
    }
   ],
   "source": [
    "plt.figure(figsize=(10,10))\n",
    "for i in range(5):\n",
    "    plt.subplot(1,5,i+1)\n",
    "    plt.imshow(images[i].reshape(100,100))\n",
    "plt.show()"
   ]
  },
  {
   "cell_type": "code",
   "execution_count": 25,
   "id": "b8447615",
   "metadata": {},
   "outputs": [
    {
     "data": {
      "text/plain": [
       "(261, 100, 100, 1)"
      ]
     },
     "execution_count": 25,
     "metadata": {},
     "output_type": "execute_result"
    }
   ],
   "source": [
    "features_train.shape"
   ]
  },
  {
   "cell_type": "code",
   "execution_count": 26,
   "id": "416ecfcb",
   "metadata": {},
   "outputs": [
    {
     "data": {
      "text/plain": [
       "(261,)"
      ]
     },
     "execution_count": 26,
     "metadata": {},
     "output_type": "execute_result"
    }
   ],
   "source": [
    "target_train.shape"
   ]
  },
  {
   "cell_type": "code",
   "execution_count": 27,
   "id": "40aa32b5",
   "metadata": {},
   "outputs": [],
   "source": [
    "from keras.utils.np_utils import to_categorical"
   ]
  },
  {
   "cell_type": "code",
   "execution_count": 28,
   "id": "c1003f69",
   "metadata": {},
   "outputs": [],
   "source": [
    "target_train=to_categorical(target_train)"
   ]
  },
  {
   "cell_type": "code",
   "execution_count": 29,
   "id": "ddbe9f61",
   "metadata": {},
   "outputs": [
    {
     "data": {
      "text/plain": [
       "(261, 2)"
      ]
     },
     "execution_count": 29,
     "metadata": {},
     "output_type": "execute_result"
    }
   ],
   "source": [
    "target_train.shape"
   ]
  },
  {
   "cell_type": "code",
   "execution_count": 30,
   "id": "30386558",
   "metadata": {},
   "outputs": [],
   "source": [
    "from keras.layers import Dense,Flatten,Conv2D,MaxPooling2D,Dropout\n",
    "from keras.models import Sequential"
   ]
  },
  {
   "cell_type": "code",
   "execution_count": 39,
   "id": "21dfd90a",
   "metadata": {},
   "outputs": [],
   "source": [
    "model=Sequential()\n",
    "model.add(Conv2D(100,(3,3),activation=\"relu\",input_shape=(100,100,1)))\n",
    "model.add(Conv2D(100,(3,3),activation=\"relu\"))\n",
    "model.add(MaxPooling2D(2,2))\n",
    "model.add(Conv2D(50,(3,3),activation=\"relu\"))\n",
    "model.add(Conv2D(50,(3,3),activation=\"relu\"))\n",
    "model.add(Conv2D(50,(3,3),activation=\"relu\"))\n",
    "model.add(MaxPooling2D(2,2))\n",
    "\n",
    "#model.add(Dropout(0.5)) # for overfitting model\n",
    "\n",
    "model.add(Flatten())\n",
    "model.add(Dense(500,activation=\"relu\"))\n",
    "model.add(Dense(2,activation=\"softmax\")) "
   ]
  },
  {
   "cell_type": "code",
   "execution_count": 40,
   "id": "aa955fa3",
   "metadata": {},
   "outputs": [],
   "source": [
    "from keras.optimizers import Adam"
   ]
  },
  {
   "cell_type": "code",
   "execution_count": 41,
   "id": "938a739a",
   "metadata": {},
   "outputs": [],
   "source": [
    "model.compile(Adam(learning_rate=0.0001),loss=\"categorical_crossentropy\",metrics=[\"accuracy\"])"
   ]
  },
  {
   "cell_type": "code",
   "execution_count": 42,
   "id": "f4ff2bd3",
   "metadata": {},
   "outputs": [
    {
     "name": "stdout",
     "output_type": "stream",
     "text": [
      "Epoch 1/50\n",
      "53/53 [==============================] - 21s 372ms/step - loss: 0.5882 - accuracy: 0.7531\n",
      "Epoch 2/50\n",
      "53/53 [==============================] - 21s 396ms/step - loss: 0.5893 - accuracy: 0.7597\n",
      "Epoch 3/50\n",
      "53/53 [==============================] - 22s 422ms/step - loss: 0.5973 - accuracy: 0.7389\n",
      "Epoch 4/50\n",
      "53/53 [==============================] - 20s 378ms/step - loss: 0.5153 - accuracy: 0.7842\n",
      "Epoch 5/50\n",
      "53/53 [==============================] - 21s 390ms/step - loss: 0.5929 - accuracy: 0.7394\n",
      "Epoch 6/50\n",
      "53/53 [==============================] - 21s 401ms/step - loss: 0.5670 - accuracy: 0.7620\n",
      "Epoch 7/50\n",
      "53/53 [==============================] - 21s 388ms/step - loss: 0.5698 - accuracy: 0.7221\n",
      "Epoch 8/50\n",
      "53/53 [==============================] - 21s 388ms/step - loss: 0.5106 - accuracy: 0.7889\n",
      "Epoch 9/50\n",
      "53/53 [==============================] - 20s 386ms/step - loss: 0.4882 - accuracy: 0.7588\n",
      "Epoch 10/50\n",
      "53/53 [==============================] - 20s 382ms/step - loss: 0.4464 - accuracy: 0.8173\n",
      "Epoch 11/50\n",
      "53/53 [==============================] - 20s 386ms/step - loss: 0.4964 - accuracy: 0.7513\n",
      "Epoch 12/50\n",
      "53/53 [==============================] - 20s 383ms/step - loss: 0.4735 - accuracy: 0.7469\n",
      "Epoch 13/50\n",
      "53/53 [==============================] - 20s 385ms/step - loss: 0.4004 - accuracy: 0.7818\n",
      "Epoch 14/50\n",
      "53/53 [==============================] - 20s 386ms/step - loss: 0.3831 - accuracy: 0.7877\n",
      "Epoch 15/50\n",
      "53/53 [==============================] - 20s 379ms/step - loss: 0.3964 - accuracy: 0.7977\n",
      "Epoch 16/50\n",
      "53/53 [==============================] - 20s 384ms/step - loss: 0.3906 - accuracy: 0.8102\n",
      "Epoch 17/50\n",
      "53/53 [==============================] - 20s 385ms/step - loss: 0.3382 - accuracy: 0.8479\n",
      "Epoch 18/50\n",
      "53/53 [==============================] - 20s 380ms/step - loss: 0.2899 - accuracy: 0.9030\n",
      "Epoch 19/50\n",
      "53/53 [==============================] - 20s 380ms/step - loss: 0.3524 - accuracy: 0.8303\n",
      "Epoch 20/50\n",
      "53/53 [==============================] - 21s 387ms/step - loss: 0.3080 - accuracy: 0.8591\n",
      "Epoch 21/50\n",
      "53/53 [==============================] - 21s 390ms/step - loss: 0.2858 - accuracy: 0.8579\n",
      "Epoch 22/50\n",
      "53/53 [==============================] - 21s 393ms/step - loss: 0.3026 - accuracy: 0.8716\n",
      "Epoch 23/50\n",
      "53/53 [==============================] - 21s 396ms/step - loss: 0.2859 - accuracy: 0.8821\n",
      "Epoch 24/50\n",
      "53/53 [==============================] - 20s 380ms/step - loss: 0.2815 - accuracy: 0.8799\n",
      "Epoch 25/50\n",
      "53/53 [==============================] - 20s 381ms/step - loss: 0.2852 - accuracy: 0.8797\n",
      "Epoch 26/50\n",
      "53/53 [==============================] - 20s 383ms/step - loss: 0.2626 - accuracy: 0.8786\n",
      "Epoch 27/50\n",
      "53/53 [==============================] - 20s 383ms/step - loss: 0.2544 - accuracy: 0.9053\n",
      "Epoch 28/50\n",
      "53/53 [==============================] - 20s 382ms/step - loss: 0.2051 - accuracy: 0.9107\n",
      "Epoch 29/50\n",
      "53/53 [==============================] - 20s 384ms/step - loss: 0.2672 - accuracy: 0.8731\n",
      "Epoch 30/50\n",
      "53/53 [==============================] - 21s 387ms/step - loss: 0.2022 - accuracy: 0.9124\n",
      "Epoch 31/50\n",
      "53/53 [==============================] - 20s 383ms/step - loss: 0.2371 - accuracy: 0.9167\n",
      "Epoch 32/50\n",
      "53/53 [==============================] - 20s 382ms/step - loss: 0.2503 - accuracy: 0.8796\n",
      "Epoch 33/50\n",
      "53/53 [==============================] - 20s 382ms/step - loss: 0.2420 - accuracy: 0.9099\n",
      "Epoch 34/50\n",
      "53/53 [==============================] - 20s 386ms/step - loss: 0.2592 - accuracy: 0.8788\n",
      "Epoch 35/50\n",
      "53/53 [==============================] - 20s 383ms/step - loss: 0.2282 - accuracy: 0.9115\n",
      "Epoch 36/50\n",
      "53/53 [==============================] - 20s 382ms/step - loss: 0.2114 - accuracy: 0.9219\n",
      "Epoch 37/50\n",
      "53/53 [==============================] - 21s 389ms/step - loss: 0.2479 - accuracy: 0.9091\n",
      "Epoch 38/50\n",
      "53/53 [==============================] - 21s 395ms/step - loss: 0.3315 - accuracy: 0.8634\n",
      "Epoch 39/50\n",
      "53/53 [==============================] - 42s 807ms/step - loss: 0.2180 - accuracy: 0.9104\n",
      "Epoch 40/50\n",
      "53/53 [==============================] - 21s 390ms/step - loss: 0.1951 - accuracy: 0.9107\n",
      "Epoch 41/50\n",
      "53/53 [==============================] - 21s 390ms/step - loss: 0.1677 - accuracy: 0.9217\n",
      "Epoch 42/50\n",
      "53/53 [==============================] - 21s 406ms/step - loss: 0.2125 - accuracy: 0.9068\n",
      "Epoch 43/50\n",
      "53/53 [==============================] - 24s 449ms/step - loss: 0.2077 - accuracy: 0.9068\n",
      "Epoch 44/50\n",
      "53/53 [==============================] - 23s 437ms/step - loss: 0.2292 - accuracy: 0.9011\n",
      "Epoch 45/50\n",
      "53/53 [==============================] - 21s 389ms/step - loss: 0.1635 - accuracy: 0.9348\n",
      "Epoch 46/50\n",
      "53/53 [==============================] - 21s 388ms/step - loss: 0.2146 - accuracy: 0.9108\n",
      "Epoch 47/50\n",
      "53/53 [==============================] - 21s 387ms/step - loss: 0.1596 - accuracy: 0.9473\n",
      "Epoch 48/50\n",
      "53/53 [==============================] - 21s 391ms/step - loss: 0.2929 - accuracy: 0.8861\n",
      "Epoch 49/50\n",
      "53/53 [==============================] - 21s 389ms/step - loss: 0.1428 - accuracy: 0.9484\n",
      "Epoch 50/50\n",
      "53/53 [==============================] - 21s 397ms/step - loss: 0.1361 - accuracy: 0.9547\n"
     ]
    },
    {
     "data": {
      "text/plain": [
       "<keras.callbacks.History at 0x20a039c7be0>"
      ]
     },
     "execution_count": 42,
     "metadata": {},
     "output_type": "execute_result"
    }
   ],
   "source": [
    "model.fit(dataGen.flow(features_train,target_train,batch_size=5),epochs=50)"
   ]
  },
  {
   "cell_type": "code",
   "execution_count": 43,
   "id": "dd7df47f",
   "metadata": {},
   "outputs": [
    {
     "name": "stdout",
     "output_type": "stream",
     "text": [
      "Save the Model\n"
     ]
    }
   ],
   "source": [
    "model_json=model.to_json() # converted to json file\n",
    "with open(\"Wrinkle.json\",\"w\") as abc:\n",
    "    abc.write(model_json)\n",
    "    abc.close()\n",
    "model.save_weights(\"WrinkleWeights.h5\") # saving weights as hdf 5 file\n",
    "print(\"Save the Model\")"
   ]
  },
  {
   "cell_type": "code",
   "execution_count": 25,
   "id": "a73bee46",
   "metadata": {},
   "outputs": [
    {
     "name": "stdout",
     "output_type": "stream",
     "text": [
      "Loaded model successfully\n"
     ]
    }
   ],
   "source": [
    "from keras.models import model_from_json\n",
    "json_file=open(\"Wrinkle.json\",\"r\")\n",
    "loaded_model_json=json_file.read()\n",
    "json_file.close()\n",
    "loaded_model=model_from_json(loaded_model_json)\n",
    "loaded_model.load_weights(\"WrinkleWeights.h5\")\n",
    "print(\"Loaded model successfully\")"
   ]
  },
  {
   "cell_type": "code",
   "execution_count": 26,
   "id": "01a10fd6",
   "metadata": {},
   "outputs": [],
   "source": [
    "def getClassName(classNo):\n",
    "    if classNo == 0: return \"No Wrinkles\"\n",
    "    elif classNo == 1: return \"Wrinkled\""
   ]
  },
  {
   "cell_type": "code",
   "execution_count": 51,
   "id": "52288bc0",
   "metadata": {},
   "outputs": [],
   "source": [
    "import cv2\n",
    "image=cv2.imread(\"D:/DataSets/Anthony_Fauci_2020.jpg\")"
   ]
  },
  {
   "cell_type": "code",
   "execution_count": 52,
   "id": "2567a35b",
   "metadata": {},
   "outputs": [],
   "source": [
    "cv2.imshow(\"Fauci\",image)\n",
    "cv2.waitKey(5000)\n",
    "cv2.destroyAllWindows()"
   ]
  },
  {
   "cell_type": "code",
   "execution_count": 53,
   "id": "372a3336",
   "metadata": {},
   "outputs": [],
   "source": [
    "face_cascade=cv2.CascadeClassifier(\"D:/xml files/haar-cascade-files-master/haarcascade_frontalface_default.xml\")"
   ]
  },
  {
   "cell_type": "code",
   "execution_count": 54,
   "id": "06cf1166",
   "metadata": {},
   "outputs": [],
   "source": [
    "gray=cv2.cvtColor(image,cv2.COLOR_BGR2GRAY)\n",
    "faces=face_cascade.detectMultiScale(gray,1.05,15) # 5% reduction , iff the rectangle identifies the face 3 times\n",
    "for (x,y,w,h) in faces: # x,y->coordinates of rectangles on faces, w-> width of rectangle, h->height of rectangle\n",
    "    cv2.rectangle(image,(x,y),(x+w,y+h),(0,255,0),2)\n",
    "img=image[x:x+w,y:y+h]"
   ]
  },
  {
   "cell_type": "code",
   "execution_count": 55,
   "id": "4b17b735",
   "metadata": {},
   "outputs": [],
   "source": [
    "imagearr=cv2.resize(img,(100,100))\n",
    "imagearr=preprocessing(imagearr)\n",
    "imagearr=imagearr.reshape((1,100,100,1)) \n",
    "predictions=loaded_model.predict(imagearr)\n",
    "classIndex=loaded_model.predict_classes(imagearr)\n",
    "probValue=np.amax(predictions)\n",
    "cv2.putText(image,\"Class: \",(20,25),cv2.FONT_HERSHEY_SIMPLEX,1,(0,0,255)) \n",
    "cv2.putText(image,\"Probability: \",(20,65),cv2.FONT_HERSHEY_SIMPLEX,1,(0,0,255))\n",
    "if probValue>0.75:\n",
    "    cv2.putText(image,getClassName(classIndex),(120,25),cv2.FONT_HERSHEY_SIMPLEX,1,(0,0,255),1)\n",
    "    cv2.putText(image,str(int(probValue*100))+\" %\",(200,65),cv2.FONT_HERSHEY_SIMPLEX,1,(0,0,255),2)\n",
    "cv2.imshow(\"Model Prediction\",image)\n",
    "key=cv2.waitKey(0)\n",
    "if key==ord(\"\\r\"):\n",
    "    cv2.destroyAllWindows()"
   ]
  },
  {
   "cell_type": "code",
   "execution_count": null,
   "id": "7180fa40",
   "metadata": {},
   "outputs": [],
   "source": []
  },
  {
   "cell_type": "code",
   "execution_count": null,
   "id": "6a499784",
   "metadata": {},
   "outputs": [],
   "source": []
  },
  {
   "cell_type": "code",
   "execution_count": null,
   "id": "c4673edb",
   "metadata": {},
   "outputs": [],
   "source": []
  }
 ],
 "metadata": {
  "kernelspec": {
   "display_name": "Python 3",
   "language": "python",
   "name": "python3"
  },
  "language_info": {
   "codemirror_mode": {
    "name": "ipython",
    "version": 3
   },
   "file_extension": ".py",
   "mimetype": "text/x-python",
   "name": "python",
   "nbconvert_exporter": "python",
   "pygments_lexer": "ipython3",
   "version": "3.8.8"
  }
 },
 "nbformat": 4,
 "nbformat_minor": 5
}

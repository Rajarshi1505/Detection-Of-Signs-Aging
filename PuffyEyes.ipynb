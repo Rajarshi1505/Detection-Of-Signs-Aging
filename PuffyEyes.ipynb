{
 "cells": [
  {
   "cell_type": "code",
   "execution_count": 1,
   "id": "f10ecdee",
   "metadata": {},
   "outputs": [],
   "source": [
    "import tensorflow as tf\n",
    "import pandas as pd\n",
    "import numpy as np\n",
    "import os\n",
    "import cv2"
   ]
  },
  {
   "cell_type": "code",
   "execution_count": 2,
   "id": "79660666",
   "metadata": {},
   "outputs": [],
   "source": [
    "folder_list=os.listdir(\"D:/DataSets/Signs_of_Aging/PuffyEyes\")"
   ]
  },
  {
   "cell_type": "code",
   "execution_count": 3,
   "id": "433d6384",
   "metadata": {},
   "outputs": [
    {
     "data": {
      "text/plain": [
       "['non_puffy', 'puffy']"
      ]
     },
     "execution_count": 3,
     "metadata": {},
     "output_type": "execute_result"
    }
   ],
   "source": [
    "folder_list"
   ]
  },
  {
   "cell_type": "code",
   "execution_count": 4,
   "id": "5ea6713f",
   "metadata": {},
   "outputs": [
    {
     "name": "stdout",
     "output_type": "stream",
     "text": [
      "In Folder :  non_puffy\n",
      "In Folder :  puffy\n"
     ]
    }
   ],
   "source": [
    "features_train=[]\n",
    "target_train=[]\n",
    "for folder in folder_list:\n",
    "    ImgNames_list=os.listdir(\"D:/DataSets/Signs_of_Aging/PuffyEyes\"+\"/\"+folder)\n",
    "    print(\"In Folder : \",folder)\n",
    "    for imgName in ImgNames_list:\n",
    "        Imgarr=cv2.imread(\"D:/DataSets/Signs_of_Aging/PuffyEyes\"+\"/\"+folder+\"/\"+imgName)\n",
    "        # there might be images of size less than 100 by 100 and so error occurs\n",
    "        try:\n",
    "            Imgarr=cv2.resize(Imgarr,(100,100))\n",
    "        except: \n",
    "            pass\n",
    "        else:\n",
    "            features_train.append(Imgarr)\n",
    "            if folder==\"non_puffy\":\n",
    "                target_train.append(0)\n",
    "            else:\n",
    "                target_train.append(1)"
   ]
  },
  {
   "cell_type": "code",
   "execution_count": 5,
   "id": "8e869a1d",
   "metadata": {},
   "outputs": [],
   "source": [
    "features_train=np.array(features_train)\n",
    "target_train=np.array(target_train)"
   ]
  },
  {
   "cell_type": "code",
   "execution_count": 6,
   "id": "8acf0b29",
   "metadata": {},
   "outputs": [
    {
     "data": {
      "text/plain": [
       "(329, 100, 100, 3)"
      ]
     },
     "execution_count": 6,
     "metadata": {},
     "output_type": "execute_result"
    }
   ],
   "source": [
    "features_train.shape"
   ]
  },
  {
   "cell_type": "code",
   "execution_count": 7,
   "id": "6644ae2a",
   "metadata": {},
   "outputs": [
    {
     "data": {
      "text/plain": [
       "(329,)"
      ]
     },
     "execution_count": 7,
     "metadata": {},
     "output_type": "execute_result"
    }
   ],
   "source": [
    "target_train.shape"
   ]
  },
  {
   "cell_type": "code",
   "execution_count": 8,
   "id": "68f00afc",
   "metadata": {},
   "outputs": [
    {
     "data": {
      "text/plain": [
       "4"
      ]
     },
     "execution_count": 8,
     "metadata": {},
     "output_type": "execute_result"
    }
   ],
   "source": [
    "features_train.ndim"
   ]
  },
  {
   "cell_type": "code",
   "execution_count": 9,
   "id": "e9a88ff2",
   "metadata": {},
   "outputs": [
    {
     "data": {
      "text/plain": [
       "1"
      ]
     },
     "execution_count": 9,
     "metadata": {},
     "output_type": "execute_result"
    }
   ],
   "source": [
    "target_train.ndim"
   ]
  },
  {
   "cell_type": "code",
   "execution_count": 2,
   "id": "82d4e5e8",
   "metadata": {},
   "outputs": [],
   "source": [
    "def preprocessing(image):\n",
    "    image=cv2.cvtColor(image,cv2.COLOR_BGR2GRAY)\n",
    "    image=image/255\n",
    "    return image"
   ]
  },
  {
   "cell_type": "code",
   "execution_count": 11,
   "id": "563620db",
   "metadata": {},
   "outputs": [],
   "source": [
    "features_train=np.array(list(map(preprocessing,features_train)))"
   ]
  },
  {
   "cell_type": "code",
   "execution_count": 12,
   "id": "5aead931",
   "metadata": {},
   "outputs": [
    {
     "data": {
      "text/plain": [
       "(329, 100, 100)"
      ]
     },
     "execution_count": 12,
     "metadata": {},
     "output_type": "execute_result"
    }
   ],
   "source": [
    "features_train.shape"
   ]
  },
  {
   "cell_type": "code",
   "execution_count": 14,
   "id": "3be7c55c",
   "metadata": {},
   "outputs": [],
   "source": [
    "features_train=features_train.reshape(329, 100, 100,1)"
   ]
  },
  {
   "cell_type": "code",
   "execution_count": 15,
   "id": "0e6b9d70",
   "metadata": {},
   "outputs": [],
   "source": [
    "from keras.preprocessing.image import ImageDataGenerator"
   ]
  },
  {
   "cell_type": "code",
   "execution_count": 16,
   "id": "00a7240b",
   "metadata": {},
   "outputs": [],
   "source": [
    "dataGen=ImageDataGenerator(rotation_range=10,width_shift_range=0.1,height_shift_range=0.1,zoom_range=0.2,shear_range=0.1)"
   ]
  },
  {
   "cell_type": "code",
   "execution_count": 17,
   "id": "d4aa1022",
   "metadata": {},
   "outputs": [],
   "source": [
    "dataGen.fit(features_train)"
   ]
  },
  {
   "cell_type": "code",
   "execution_count": 18,
   "id": "d6342cb3",
   "metadata": {},
   "outputs": [],
   "source": [
    "batches=dataGen.flow(features_train,target_train,batch_size=5)"
   ]
  },
  {
   "cell_type": "code",
   "execution_count": 19,
   "id": "6e95096f",
   "metadata": {},
   "outputs": [
    {
     "data": {
      "text/plain": [
       "66"
      ]
     },
     "execution_count": 19,
     "metadata": {},
     "output_type": "execute_result"
    }
   ],
   "source": [
    "len(batches)"
   ]
  },
  {
   "cell_type": "code",
   "execution_count": 20,
   "id": "fc55f1df",
   "metadata": {},
   "outputs": [],
   "source": [
    "images,labels=next(batches)"
   ]
  },
  {
   "cell_type": "code",
   "execution_count": 21,
   "id": "26441a1f",
   "metadata": {},
   "outputs": [
    {
     "data": {
      "text/plain": [
       "4"
      ]
     },
     "execution_count": 21,
     "metadata": {},
     "output_type": "execute_result"
    }
   ],
   "source": [
    "images.ndim"
   ]
  },
  {
   "cell_type": "code",
   "execution_count": 22,
   "id": "8d22df06",
   "metadata": {},
   "outputs": [
    {
     "data": {
      "text/plain": [
       "(5,)"
      ]
     },
     "execution_count": 22,
     "metadata": {},
     "output_type": "execute_result"
    }
   ],
   "source": [
    "labels.shape"
   ]
  },
  {
   "cell_type": "code",
   "execution_count": 23,
   "id": "2eb104fd",
   "metadata": {},
   "outputs": [
    {
     "data": {
      "text/plain": [
       "(5, 100, 100, 1)"
      ]
     },
     "execution_count": 23,
     "metadata": {},
     "output_type": "execute_result"
    }
   ],
   "source": [
    "images.shape"
   ]
  },
  {
   "cell_type": "code",
   "execution_count": 24,
   "id": "482d8ce5",
   "metadata": {},
   "outputs": [],
   "source": [
    "import matplotlib.pyplot as plt"
   ]
  },
  {
   "cell_type": "code",
   "execution_count": 25,
   "id": "c7492968",
   "metadata": {},
   "outputs": [
    {
     "data": {
      "image/png": "[encoded data removed]",
      "text/plain": [
       "<Figure size 720x720 with 5 Axes>"
      ]
     },
     "metadata": {
      "needs_background": "light"
     },
     "output_type": "display_data"
    }
   ],
   "source": [
    "plt.figure(figsize=(10,10))\n",
    "for i in range(5):\n",
    "    plt.subplot(1,5,i+1)\n",
    "    plt.imshow(images[i].reshape(100,100))\n",
    "plt.show()"
   ]
  },
  {
   "cell_type": "code",
   "execution_count": 26,
   "id": "b12af9bc",
   "metadata": {},
   "outputs": [
    {
     "data": {
      "text/plain": [
       "(329, 100, 100, 1)"
      ]
     },
     "execution_count": 26,
     "metadata": {},
     "output_type": "execute_result"
    }
   ],
   "source": [
    "features_train.shape"
   ]
  },
  {
   "cell_type": "code",
   "execution_count": 27,
   "id": "6193a7e6",
   "metadata": {},
   "outputs": [
    {
     "data": {
      "text/plain": [
       "(329,)"
      ]
     },
     "execution_count": 27,
     "metadata": {},
     "output_type": "execute_result"
    }
   ],
   "source": [
    "target_train.shape"
   ]
  },
  {
   "cell_type": "code",
   "execution_count": 28,
   "id": "1a4c79a5",
   "metadata": {},
   "outputs": [],
   "source": [
    "from keras.utils.np_utils import to_categorical"
   ]
  },
  {
   "cell_type": "code",
   "execution_count": 29,
   "id": "6c1e6b98",
   "metadata": {},
   "outputs": [],
   "source": [
    "target_train=to_categorical(target_train)"
   ]
  },
  {
   "cell_type": "code",
   "execution_count": 30,
   "id": "27f27e6c",
   "metadata": {},
   "outputs": [
    {
     "data": {
      "text/plain": [
       "(329, 2)"
      ]
     },
     "execution_count": 30,
     "metadata": {},
     "output_type": "execute_result"
    }
   ],
   "source": [
    "target_train.shape"
   ]
  },
  {
   "cell_type": "code",
   "execution_count": 31,
   "id": "e4ac81c1",
   "metadata": {},
   "outputs": [],
   "source": [
    "from keras.layers import Dense,Flatten,Conv2D,MaxPooling2D,Dropout\n",
    "from keras.models import Sequential"
   ]
  },
  {
   "cell_type": "code",
   "execution_count": 36,
   "id": "12c86f57",
   "metadata": {},
   "outputs": [],
   "source": [
    "model=Sequential()\n",
    "model.add(Conv2D(120,(3,3),activation=\"relu\",input_shape=(100,100,1)))\n",
    "model.add(Conv2D(120,(3,3),activation=\"relu\"))\n",
    "model.add(MaxPooling2D(2,2))\n",
    "model.add(Conv2D(50,(3,3),activation=\"relu\"))\n",
    "model.add(Conv2D(50,(3,3),activation=\"relu\"))\n",
    "model.add(Conv2D(50,(3,3),activation=\"relu\"))\n",
    "model.add(MaxPooling2D(2,2))\n",
    "\n",
    "#model.add(Dropout(0.5)) # for overfitting model\n",
    "\n",
    "model.add(Flatten())\n",
    "model.add(Dense(500,activation=\"relu\"))\n",
    "model.add(Dense(2,activation=\"softmax\")) "
   ]
  },
  {
   "cell_type": "code",
   "execution_count": 37,
   "id": "903e4c71",
   "metadata": {},
   "outputs": [],
   "source": [
    "from keras.optimizers import Adam"
   ]
  },
  {
   "cell_type": "code",
   "execution_count": 38,
   "id": "3fc05b67",
   "metadata": {},
   "outputs": [],
   "source": [
    "model.compile(Adam(learning_rate=0.0001),loss=\"categorical_crossentropy\",metrics=[\"accuracy\"])"
   ]
  },
  {
   "cell_type": "code",
   "execution_count": 39,
   "id": "0b15ddbe",
   "metadata": {},
   "outputs": [
    {
     "name": "stdout",
     "output_type": "stream",
     "text": [
      "Epoch 1/50\n",
      "66/66 [==============================] - 30s 428ms/step - loss: 0.4755 - accuracy: 0.8567\n",
      "Epoch 2/50\n",
      "66/66 [==============================] - 30s 457ms/step - loss: 0.3254 - accuracy: 0.9049\n",
      "Epoch 3/50\n",
      "66/66 [==============================] - 34s 522ms/step - loss: 0.3272 - accuracy: 0.9064\n",
      "Epoch 4/50\n",
      "66/66 [==============================] - 38s 570ms/step - loss: 0.3830 - accuracy: 0.8784\n",
      "Epoch 5/50\n",
      "66/66 [==============================] - 34s 508ms/step - loss: 0.3688 - accuracy: 0.8802\n",
      "Epoch 6/50\n",
      "66/66 [==============================] - 36s 553ms/step - loss: 0.3256 - accuracy: 0.9205\n",
      "Epoch 7/50\n",
      "66/66 [==============================] - 32s 488ms/step - loss: 0.3665 - accuracy: 0.8744\n",
      "Epoch 8/50\n",
      "66/66 [==============================] - 34s 516ms/step - loss: 0.3375 - accuracy: 0.8785\n",
      "Epoch 9/50\n",
      "66/66 [==============================] - 31s 470ms/step - loss: 0.3659 - accuracy: 0.8541\n",
      "Epoch 10/50\n",
      "66/66 [==============================] - 34s 512ms/step - loss: 0.3313 - accuracy: 0.8864\n",
      "Epoch 11/50\n",
      "66/66 [==============================] - 32s 485ms/step - loss: 0.3268 - accuracy: 0.8776\n",
      "Epoch 12/50\n",
      "66/66 [==============================] - 32s 480ms/step - loss: 0.3055 - accuracy: 0.8840\n",
      "Epoch 13/50\n",
      "66/66 [==============================] - 31s 475ms/step - loss: 0.3153 - accuracy: 0.8742\n",
      "Epoch 14/50\n",
      "66/66 [==============================] - 31s 472ms/step - loss: 0.3590 - accuracy: 0.8532\n",
      "Epoch 15/50\n",
      "66/66 [==============================] - 33s 504ms/step - loss: 0.3230 - accuracy: 0.8744\n",
      "Epoch 16/50\n",
      "66/66 [==============================] - 32s 480ms/step - loss: 0.3156 - accuracy: 0.8752\n",
      "Epoch 17/50\n",
      "66/66 [==============================] - 33s 497ms/step - loss: 0.2962 - accuracy: 0.8776\n",
      "Epoch 18/50\n",
      "66/66 [==============================] - 35s 528ms/step - loss: 0.3735 - accuracy: 0.8588\n",
      "Epoch 19/50\n",
      "66/66 [==============================] - 34s 509ms/step - loss: 0.2837 - accuracy: 0.8806\n",
      "Epoch 20/50\n",
      "66/66 [==============================] - 32s 489ms/step - loss: 0.3075 - accuracy: 0.8799\n",
      "Epoch 21/50\n",
      "66/66 [==============================] - 32s 485ms/step - loss: 0.2941 - accuracy: 0.8916\n",
      "Epoch 22/50\n",
      "66/66 [==============================] - 33s 501ms/step - loss: 0.3295 - accuracy: 0.8603\n",
      "Epoch 23/50\n",
      "66/66 [==============================] - 35s 536ms/step - loss: 0.3237 - accuracy: 0.8582\n",
      "Epoch 24/50\n",
      "66/66 [==============================] - 32s 491ms/step - loss: 0.2756 - accuracy: 0.8859\n",
      "Epoch 25/50\n",
      "66/66 [==============================] - 31s 472ms/step - loss: 0.2543 - accuracy: 0.9014\n",
      "Epoch 26/50\n",
      "66/66 [==============================] - 31s 462ms/step - loss: 0.2780 - accuracy: 0.8844\n",
      "Epoch 27/50\n",
      "66/66 [==============================] - 32s 479ms/step - loss: 0.2529 - accuracy: 0.8951\n",
      "Epoch 28/50\n",
      "66/66 [==============================] - 31s 468ms/step - loss: 0.2628 - accuracy: 0.9037\n",
      "Epoch 29/50\n",
      "66/66 [==============================] - 32s 486ms/step - loss: 0.2342 - accuracy: 0.8997\n",
      "Epoch 30/50\n",
      "66/66 [==============================] - 31s 469ms/step - loss: 0.2430 - accuracy: 0.8941\n",
      "Epoch 31/50\n",
      "66/66 [==============================] - 31s 464ms/step - loss: 0.1897 - accuracy: 0.9126\n",
      "Epoch 32/50\n",
      "66/66 [==============================] - 32s 492ms/step - loss: 0.2499 - accuracy: 0.9095\n",
      "Epoch 33/50\n",
      "66/66 [==============================] - 32s 488ms/step - loss: 0.2224 - accuracy: 0.9199\n",
      "Epoch 34/50\n",
      "66/66 [==============================] - 32s 481ms/step - loss: 0.2575 - accuracy: 0.8845\n",
      "Epoch 35/50\n",
      "66/66 [==============================] - 30s 459ms/step - loss: 0.2297 - accuracy: 0.8960\n",
      "Epoch 36/50\n",
      "66/66 [==============================] - 31s 466ms/step - loss: 0.2184 - accuracy: 0.9094\n",
      "Epoch 37/50\n",
      "66/66 [==============================] - 32s 481ms/step - loss: 0.2413 - accuracy: 0.9125\n",
      "Epoch 38/50\n",
      "66/66 [==============================] - 31s 465ms/step - loss: 0.2275 - accuracy: 0.9129\n",
      "Epoch 39/50\n",
      "66/66 [==============================] - 31s 476ms/step - loss: 0.2027 - accuracy: 0.9277\n",
      "Epoch 40/50\n",
      "66/66 [==============================] - 32s 487ms/step - loss: 0.3087 - accuracy: 0.8736\n",
      "Epoch 41/50\n",
      "66/66 [==============================] - 31s 464ms/step - loss: 0.2244 - accuracy: 0.8839\n",
      "Epoch 42/50\n",
      "66/66 [==============================] - 30s 461ms/step - loss: 0.2161 - accuracy: 0.9107\n",
      "Epoch 43/50\n",
      "66/66 [==============================] - 31s 466ms/step - loss: 0.1702 - accuracy: 0.9449\n",
      "Epoch 44/50\n",
      "66/66 [==============================] - 31s 464ms/step - loss: 0.2085 - accuracy: 0.9223\n",
      "Epoch 45/50\n",
      "66/66 [==============================] - 31s 466ms/step - loss: 0.2303 - accuracy: 0.9149\n",
      "Epoch 46/50\n",
      "66/66 [==============================] - 31s 462ms/step - loss: 0.2628 - accuracy: 0.8795\n",
      "Epoch 47/50\n",
      "66/66 [==============================] - 31s 465ms/step - loss: 0.2937 - accuracy: 0.8872\n",
      "Epoch 48/50\n",
      "66/66 [==============================] - 31s 462ms/step - loss: 0.2180 - accuracy: 0.9111\n",
      "Epoch 49/50\n",
      "66/66 [==============================] - 30s 461ms/step - loss: 0.1830 - accuracy: 0.9244\n",
      "Epoch 50/50\n",
      "66/66 [==============================] - 32s 478ms/step - loss: 0.1727 - accuracy: 0.9353\n"
     ]
    },
    {
     "data": {
      "text/plain": [
       "<keras.callbacks.History at 0x1f953d50700>"
      ]
     },
     "execution_count": 39,
     "metadata": {},
     "output_type": "execute_result"
    }
   ],
   "source": [
    "model.fit(dataGen.flow(features_train,target_train,batch_size=5),epochs=50)"
   ]
  },
  {
   "cell_type": "code",
   "execution_count": 40,
   "id": "eada1d81",
   "metadata": {},
   "outputs": [
    {
     "name": "stdout",
     "output_type": "stream",
     "text": [
      "Save the Model\n"
     ]
    }
   ],
   "source": [
    "model_json=model.to_json() # converted to json file\n",
    "with open(\"Puffy.json\",\"w\") as abc:\n",
    "    abc.write(model_json)\n",
    "    abc.close()\n",
    "model.save_weights(\"PuffyWeights.h5\") # saving weights as hdf 5 file\n",
    "print(\"Save the Model\")"
   ]
  },
  {
   "cell_type": "code",
   "execution_count": 2,
   "id": "3de47ec0",
   "metadata": {},
   "outputs": [
    {
     "name": "stdout",
     "output_type": "stream",
     "text": [
      "Loaded model successfully\n"
     ]
    }
   ],
   "source": [
    "from keras.models import model_from_json\n",
    "json_file=open(\"Puffy.json\",\"r\")\n",
    "loaded_model_json=json_file.read()\n",
    "json_file.close()\n",
    "loaded_model=model_from_json(loaded_model_json)\n",
    "loaded_model.load_weights(\"PuffyWeights.h5\")\n",
    "print(\"Loaded model successfully\")"
   ]
  },
  {
   "cell_type": "code",
   "execution_count": 3,
   "id": "3bf44b09",
   "metadata": {},
   "outputs": [],
   "source": [
    "def preprocessing(image):\n",
    "    image=cv2.cvtColor(image,cv2.COLOR_BGR2GRAY)\n",
    "    image=image/255\n",
    "    return image"
   ]
  },
  {
   "cell_type": "code",
   "execution_count": 4,
   "id": "f8ec5327",
   "metadata": {},
   "outputs": [],
   "source": [
    "def getClassName(classNo):\n",
    "    if classNo == 0: return \"No Puffy Eyes\"\n",
    "    elif classNo == 1: return \"Puffy Eyes\""
   ]
  },
  {
   "cell_type": "code",
   "execution_count": 5,
   "id": "17925d21",
   "metadata": {},
   "outputs": [],
   "source": [
    "import cv2\n",
    "image=cv2.imread(\"D:/DataSets/Anthony_Fauci_2020.jpg\")"
   ]
  },
  {
   "cell_type": "code",
   "execution_count": 6,
   "id": "f62cd1e0",
   "metadata": {},
   "outputs": [],
   "source": [
    "cv2.imshow(\"Fauci\",image)\n",
    "cv2.waitKey(5000)\n",
    "cv2.destroyAllWindows()"
   ]
  },
  {
   "cell_type": "code",
   "execution_count": 7,
   "id": "787892d0",
   "metadata": {},
   "outputs": [],
   "source": [
    "import numpy as np\n",
    "face_cascade=cv2.CascadeClassifier(\"D:/xml files/haar-cascade-files-master/haarcascade_frontalface_default.xml\")\n",
    "eye_cascade = cv2.CascadeClassifier(\"D:/xml files/haar-cascade-files-master/haarcascade_eye.xml\")\n",
    "\n",
    "gray = cv2.cvtColor(image, cv2.COLOR_BGR2GRAY)\n",
    "faces = face_cascade.detectMultiScale(gray, 1.3,5)\n",
    "\n",
    "for (x,y,w,h) in faces:\n",
    "    cv2.rectangle(image,(x,y),(x+w,y+h),(0,0,255),2)\n",
    "    roi_gray = image[y:y+h, x:x+w]\n",
    "    roi_color = image[y:y+h, x:x+w]\n",
    "    eyes = eye_cascade.detectMultiScale(roi_gray)\n",
    "    for (ex,ey,ew,eh) in eyes:\n",
    "        eye=roi_color[ex:ex+ew,ey:ey+eh]\n",
    "        cv2.rectangle(roi_color,(ex,ey),(ex+ew,ey+eh),(0,255,0),2)\n",
    "cv2.imshow('img',image)\n",
    "k = cv2.waitKey(10000)\n",
    "cv2.destroyAllWindows()"
   ]
  },
  {
   "cell_type": "code",
   "execution_count": 8,
   "id": "2d85558a",
   "metadata": {},
   "outputs": [],
   "source": [
    "imagearr=eye"
   ]
  },
  {
   "cell_type": "code",
   "execution_count": 9,
   "id": "3435efc4",
   "metadata": {},
   "outputs": [
    {
     "name": "stderr",
     "output_type": "stream",
     "text": [
      "C:\\Users\\rajar\\anaconda3\\lib\\site-packages\\keras\\engine\\sequential.py:450: UserWarning: `model.predict_classes()` is deprecated and will be removed after 2021-01-01. Please use instead:* `np.argmax(model.predict(x), axis=-1)`,   if your model does multi-class classification   (e.g. if it uses a `softmax` last-layer activation).* `(model.predict(x) > 0.5).astype(\"int32\")`,   if your model does binary classification   (e.g. if it uses a `sigmoid` last-layer activation).\n",
      "  warnings.warn('`model.predict_classes()` is deprecated and '\n"
     ]
    }
   ],
   "source": [
    "imagearr=cv2.resize(imagearr,(100,100))\n",
    "imagearr=preprocessing(imagearr)\n",
    "imagearr=imagearr.reshape((1,100,100,1)) \n",
    "predictions=loaded_model.predict(imagearr)\n",
    "classIndex=loaded_model.predict_classes(imagearr)\n",
    "probValue=np.amax(predictions)\n",
    "cv2.putText(image,\"Class: \",(20,25),cv2.FONT_HERSHEY_SIMPLEX,1,(0,0,255)) \n",
    "cv2.putText(image,\"Probability: \",(20,65),cv2.FONT_HERSHEY_SIMPLEX,1,(0,0,255))\n",
    "if probValue>0.75:\n",
    "    cv2.putText(image,getClassName(classIndex),(120,25),cv2.FONT_HERSHEY_SIMPLEX,1,(0,0,255),1)\n",
    "    cv2.putText(image,str(int(probValue*100))+\" %\",(200,65),cv2.FONT_HERSHEY_SIMPLEX,1,(0,0,255),2)\n",
    "cv2.imshow(\"Model Prediction\",image)\n",
    "key=cv2.waitKey(0)\n",
    "if key==ord(\"\\r\"):\n",
    "    cv2.destroyAllWindows()"
   ]
  },
  {
   "cell_type": "code",
   "execution_count": null,
   "id": "1cff9bdb",
   "metadata": {},
   "outputs": [],
   "source": []
  }
 ],
 "metadata": {
  "kernelspec": {
   "display_name": "Python 3",
   "language": "python",
   "name": "python3"
  },
  "language_info": {
   "codemirror_mode": {
    "name": "ipython",
    "version": 3
   },
   "file_extension": ".py",
   "mimetype": "text/x-python",
   "name": "python",
   "nbconvert_exporter": "python",
   "pygments_lexer": "ipython3",
   "version": "3.8.8"
  }
 },
 "nbformat": 4,
 "nbformat_minor": 5
}
